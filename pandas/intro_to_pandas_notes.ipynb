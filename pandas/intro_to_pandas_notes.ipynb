{
  "nbformat": 4,
  "nbformat_minor": 0,
  "metadata": {
    "colab": {
      "name": "intro_to_pandas_notes.ipynb",
      "version": "0.3.2",
      "provenance": [],
      "collapsed_sections": [],
      "include_colab_link": true
    },
    "kernelspec": {
      "name": "python2",
      "display_name": "Python 2"
    }
  },
  "cells": [
    {
      "cell_type": "markdown",
      "metadata": {
        "id": "view-in-github",
        "colab_type": "text"
      },
      "source": [
        "[View in Colaboratory](https://colab.research.google.com/github/Elenaires/Machine-Learning/blob/master/pandas/intro_to_pandas_notes.ipynb)"
      ]
    },
    {
      "metadata": {
        "id": "ykmFWoSmO4sZ",
        "colab_type": "code",
        "colab": {
          "base_uri": "https://localhost:8080/",
          "height": 142
        },
        "outputId": "dcd7d187-468a-4c47-9325-695f6870260c"
      },
      "cell_type": "code",
      "source": [
        "# imports pandas API and prints API version\n",
        "import pandas as pd\n",
        "pd.__version__\n",
        "\n",
        "# - DataFrame, which you can imagine as a relational data table, with rows and named columns.\n",
        "# - Series, which is a single column. A DataFrame contains one or more Series and a name for each Series.\n",
        "\n",
        "#construct Series object\n",
        "city_names = pd.Series(['San Francisco', 'San Jose', 'Sacramento'])\n",
        "population = pd.Series([852469, 1015785, 485199])\n",
        "\n",
        "#construct DataFrame object\n",
        "cities = pd.DataFrame({'City name' : city_names, 'Population' : population})\n",
        "\n",
        "#load file into a DataFrame\n",
        "california_housing_dataframe = pd.read_csv(\"https://storage.googleapis.com/mledu-datasets/california_housing_train.csv\", sep=\",\")\n",
        "\n",
        "#show interesting stats of DataFrame\n",
        "california_housing_dataframe.describe()\n",
        "\n",
        "#show first few records of DataFrame\n",
        "california_housing_dataframe.head()\n",
        "\n",
        "#graphing - distribution of values in a column\n",
        "california_housing_dataframe.hist('housing_median_age')\n",
        "\n",
        "#accessing data\n",
        "print type(cities['City name'])\n",
        "cities['City name']\n",
        "print type(cities['City name'][0])\n",
        "cities['City name'][0]\n",
        "print type(cities[0:3])\n",
        "cities[0:3]\n",
        "\n",
        "#add Series into DataFrame\n",
        "cities['Area square miles'] = pd.Series([46.87, 176,53, 97.92])\n",
        "cities['Population density'] = cities['Population'] / cities ['Area square miles']\n",
        "\n",
        "\n",
        "#manipulating data\n",
        "population / 1000\n",
        "\n",
        "# NumPy is a toolkit for scientific computing where Pandas Series are used as argument\n",
        "import numpy as np\n",
        "np.log(population)\n",
        "population.apply(lambda val: val > 1000000)\n",
        "\n",
        "\n",
        "#Exercise1\n",
        "#Modify the cities table by adding a new boolean column that is True if and only if both of the following are True:\n",
        "#The city is named after a saint.\n",
        "#The city has an area greater than 50 square miles.\n",
        "\n",
        "cities['new column'] = (cities['Area square miles'] > 50) & (cities['City name'].apply(lambda name: name.startswith('San')))\n",
        "cities\n",
        "\n"
      ],
      "execution_count": 3,
      "outputs": [
        {
          "output_type": "execute_result",
          "data": {
            "text/html": [
              "<div>\n",
              "<style scoped>\n",
              "    .dataframe tbody tr th:only-of-type {\n",
              "        vertical-align: middle;\n",
              "    }\n",
              "\n",
              "    .dataframe tbody tr th {\n",
              "        vertical-align: top;\n",
              "    }\n",
              "\n",
              "    .dataframe thead th {\n",
              "        text-align: right;\n",
              "    }\n",
              "</style>\n",
              "<table border=\"1\" class=\"dataframe\">\n",
              "  <thead>\n",
              "    <tr style=\"text-align: right;\">\n",
              "      <th></th>\n",
              "      <th>City name</th>\n",
              "      <th>Population</th>\n",
              "      <th>Area square miles</th>\n",
              "      <th>Population density</th>\n",
              "      <th>new column</th>\n",
              "    </tr>\n",
              "  </thead>\n",
              "  <tbody>\n",
              "    <tr>\n",
              "      <th>0</th>\n",
              "      <td>San Francisco</td>\n",
              "      <td>852469</td>\n",
              "      <td>46.87</td>\n",
              "      <td>18187.945381</td>\n",
              "      <td>False</td>\n",
              "    </tr>\n",
              "    <tr>\n",
              "      <th>1</th>\n",
              "      <td>San Jose</td>\n",
              "      <td>1015785</td>\n",
              "      <td>176.00</td>\n",
              "      <td>5771.505682</td>\n",
              "      <td>True</td>\n",
              "    </tr>\n",
              "    <tr>\n",
              "      <th>2</th>\n",
              "      <td>Sacramento</td>\n",
              "      <td>485199</td>\n",
              "      <td>53.00</td>\n",
              "      <td>9154.698113</td>\n",
              "      <td>False</td>\n",
              "    </tr>\n",
              "  </tbody>\n",
              "</table>\n",
              "</div>"
            ],
            "text/plain": [
              "       City name  Population  Area square miles  Population density  \\\n",
              "0  San Francisco      852469              46.87        18187.945381   \n",
              "1       San Jose     1015785             176.00         5771.505682   \n",
              "2     Sacramento      485199              53.00         9154.698113   \n",
              "\n",
              "   new column  \n",
              "0       False  \n",
              "1        True  \n",
              "2       False  "
            ]
          },
          "metadata": {
            "tags": []
          },
          "execution_count": 3
        }
      ]
    }
  ]
}